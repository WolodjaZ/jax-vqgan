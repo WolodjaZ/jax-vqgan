{
 "cells": [
  {
   "cell_type": "code",
   "execution_count": null,
   "metadata": {},
   "outputs": [],
   "source": [
    "%pip install -r ../requirements.txt"
   ]
  },
  {
   "cell_type": "markdown",
   "metadata": {},
   "source": [
    "## Load libraries"
   ]
  },
  {
   "cell_type": "code",
   "execution_count": null,
   "metadata": {},
   "outputs": [],
   "source": [
    "import warnings  # noqa: E402\n",
    "\n",
    "from matplotlib import pyplot as plt  # noqa: E402\n",
    "from omegaconf import OmegaConf  # noqa: E402\n",
    "\n",
    "warnings.filterwarnings(\"ignore\")\n",
    "\n",
    "import sys  # noqa: E402\n",
    "\n",
    "sys.path.insert(0, \"../\")\n",
    "\n",
    "%matplotlib inline\n",
    "\n",
    "from modules import config, utils  # noqa: E402"
   ]
  },
  {
   "cell_type": "markdown",
   "metadata": {},
   "source": [
    "## Visualize dataset"
   ]
  },
  {
   "cell_type": "code",
   "execution_count": null,
   "metadata": {},
   "outputs": [],
   "source": [
    "def view_image(ds):\n",
    "    ds = iter(ds)\n",
    "    image = next(ds)  # extract 1 batch from the dataset\n",
    "    image = [utils.post_processing(img) for img in image]\n",
    "    fig = plt.figure(figsize=(22, 22))\n",
    "    for i in range(20):\n",
    "        ax = fig.add_subplot(4, 5, i + 1, xticks=[], yticks=[])\n",
    "        ax.imshow(image[i])"
   ]
  },
  {
   "cell_type": "code",
   "execution_count": null,
   "metadata": {},
   "outputs": [],
   "source": [
    "# Data config path\n",
    "data_config_path = \"../conf/config.yaml\"\n",
    "cfg = OmegaConf.load(data_config_path)\n",
    "load_confg = OmegaConf.to_container(cfg)\n",
    "conf = config.LoadConfig(**load_confg)"
   ]
  },
  {
   "cell_type": "code",
   "execution_count": null,
   "metadata": {},
   "outputs": [],
   "source": [
    "# Prepare dataloaders\n",
    "dataset_train_class = utils.TensorflowDataset(train=True, dtype=conf.train.dtype, config=conf.data)\n",
    "loader_train = utils.DataLoader(dataset_train_class, distributed=False)"
   ]
  },
  {
   "cell_type": "markdown",
   "metadata": {},
   "source": [
    "## View"
   ]
  },
  {
   "cell_type": "code",
   "execution_count": null,
   "metadata": {},
   "outputs": [],
   "source": [
    "view_image(loader_train())"
   ]
  },
  {
   "cell_type": "code",
   "execution_count": null,
   "metadata": {},
   "outputs": [],
   "source": []
  }
 ],
 "metadata": {
  "kernelspec": {
   "display_name": "Python 3.8.6 ('myenv': venv)",
   "language": "python",
   "name": "python3"
  },
  "language_info": {
   "codemirror_mode": {
    "name": "ipython",
    "version": 3
   },
   "file_extension": ".py",
   "mimetype": "text/x-python",
   "name": "python",
   "nbconvert_exporter": "python",
   "pygments_lexer": "ipython3",
   "version": "3.8.6"
  },
  "vscode": {
   "interpreter": {
    "hash": "ee3e6b1a8b82f2e7fb3339c967d758e6c82f59c401c8953395252e3e63beb233"
   }
  }
 },
 "nbformat": 4,
 "nbformat_minor": 2
}
