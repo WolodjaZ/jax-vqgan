{
 "cells": [
  {
   "cell_type": "code",
   "execution_count": null,
   "metadata": {},
   "outputs": [],
   "source": [
    "%pip install -r ../requirements.txt"
   ]
  },
  {
   "cell_type": "markdown",
   "metadata": {},
   "source": [
    "## Example of training"
   ]
  },
  {
   "cell_type": "markdown",
   "metadata": {},
   "source": []
  }
 ],
 "metadata": {
  "kernelspec": {
   "display_name": "Python 3.8.6 ('myenv': venv)",
   "language": "python",
   "name": "python3"
  },
  "language_info": {
   "name": "python",
   "version": "3.8.6"
  },
  "vscode": {
   "interpreter": {
    "hash": "ee3e6b1a8b82f2e7fb3339c967d758e6c82f59c401c8953395252e3e63beb233"
   }
  }
 },
 "nbformat": 4,
 "nbformat_minor": 2
}
